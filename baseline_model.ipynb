{
 "cells": [
  {
   "cell_type": "code",
   "execution_count": null,
   "metadata": {},
   "outputs": [],
   "source": [
    "# load packages\n",
    "import pandas as pd\n",
    "import datetime \n",
    "import numpy as np"
   ]
  },
  {
   "cell_type": "code",
   "execution_count": null,
   "metadata": {},
   "outputs": [],
   "source": [
    "# convert timestamps from str to datetime\n",
    "def convert(time_stamp): \n",
    "    time_stamp = time_stamp[0:-6] # remove the last 6 charaacters to apply timestamp.strptime easier\n",
    "    format = '%Y-%m-%d %H:%M:%S'\n",
    "    output = datetime.datetime.strptime(time_stamp, format) \n",
    "    return output"
   ]
  },
  {
   "cell_type": "code",
   "execution_count": null,
   "metadata": {},
   "outputs": [],
   "source": [
    "# given a dataframe of a minute's data, calculate the volatility for that minute\n",
    "def calculate_volatility(df):\n",
    "    volume_total = df[\"Volume\"].sum()\n",
    "    if volume_total == 0:\n",
    "        print(\"ZERO VOLUME\")\n",
    "    volume_times_price_total = (df[\"Volume\"] * df[\"TradePrice\"]).sum()\n",
    "    vwap = volume_times_price_total / volume_total\n",
    "    last_valid_index = df[\"TradePrice\"].last_valid_index()\n",
    "    final_price = df[\"TradePrice\"][last_valid_index]\n",
    "    volatility = abs(final_price - vwap)\n",
    "    return volatility"
   ]
  },
  {
   "cell_type": "code",
   "execution_count": null,
   "metadata": {},
   "outputs": [],
   "source": [
    "def gen_features_and_targets(df):\n",
    "    features = []\n",
    "    targets = []\n",
    "    for date in df.groups.keys():\n",
    "        cur_date = df.get_group(date)\n",
    "        grouped_date = cur_date.groupby(cur_date[\"Minute\"])\n",
    "        features_date = []\n",
    "        for minute in grouped_date.groups.keys():\n",
    "            cur_minute = grouped_date.get_group(minute)\n",
    "            if len(cur_minute) < 59:\n",
    "                continue\n",
    "            volatility = calculate_volatility(cur_minute)\n",
    "            if minute == 59:\n",
    "                targets.append(volatility)\n",
    "            else:\n",
    "                #print(\"Cur minute is {} and vol is {}\".format(minute, volatility))\n",
    "                features_date.append(volatility)\n",
    "        features.append(features_date)\n",
    "    return np.array(features), np.array(targets)"
   ]
  },
  {
   "cell_type": "code",
   "execution_count": null,
   "metadata": {
    "scrolled": false
   },
   "outputs": [],
   "source": [
    "# main\n",
    "df = pd.read_csv(\"ES.csv\") # load .csv into pd.dataframe\n",
    "df[\"TimeStamp\"] = df[\"TimeStamp\"].apply(lambda x: convert(x)) # convert timestamps from str to datetime\n",
    "df['Time'] = df[\"TimeStamp\"].apply(lambda x: x.time()) # create a new column with time only\n",
    "df['Date'] = df[\"TimeStamp\"].apply(lambda x: x.date()) # create a new column with date only\n",
    "df[\"Minute\"] = df[\"TimeStamp\"].apply(lambda x: x.time().minute) # create a new column with minute only\n",
    "df = df.loc[(df[\"Time\"] >= datetime.time(14, 30, 0)) & (df[\"Time\"] <= datetime.time(15, 0, 0))] # keep interested time periods only\n",
    "df_grouped = df.groupby(df[\"Date\"]) # group by minutes\n",
    "features, targets = gen_features_and_targets(df_grouped)"
   ]
  }
 ],
 "metadata": {
  "kernelspec": {
   "display_name": "Python 3",
   "language": "python",
   "name": "python3"
  },
  "language_info": {
   "codemirror_mode": {
    "name": "ipython",
    "version": 3
   },
   "file_extension": ".py",
   "mimetype": "text/x-python",
   "name": "python",
   "nbconvert_exporter": "python",
   "pygments_lexer": "ipython3",
   "version": "3.8.5"
  }
 },
 "nbformat": 4,
 "nbformat_minor": 4
}
