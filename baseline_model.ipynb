{
 "cells": [
  {
   "cell_type": "code",
   "execution_count": 246,
   "metadata": {},
   "outputs": [],
   "source": [
    "# definitions for pre-processing data\n",
    "import pandas as pd\n",
    "import datetime \n",
    "import numpy as np\n",
    "\n",
    "def convert_time(string_time):\n",
    "    # given a time in string format, output a time in datetime.time format\n",
    "    format = \"%H:%M:%S\"\n",
    "    output = datetime.datetime.strptime(string_time, format)\n",
    "    return output.time()\n",
    "\n",
    "def convert_date(string_date):\n",
    "    # given a date in string format, output a time in datetime.date format\n",
    "    format = \"%m/%d/%Y\"\n",
    "    output = datetime.datetime.strptime(string_date, format)\n",
    "    return output.date()\n",
    "\n",
    "def calculate_volatility(df):\n",
    "    # given a df for a time period, calculate the VWAP for this time period\n",
    "    volume_total = df[\"Volume\"].sum()\n",
    "    volume_times_price_total = (df[\"Volume\"] * df[\"Price\"]).sum()\n",
    "    vwap = volume_times_price_total / volume_total\n",
    "    last_valid_index = df[\"Price\"].last_valid_index()\n",
    "    final_price = df[\"Price\"][last_valid_index]\n",
    "    volatility = abs(final_price - vwap)\n",
    "    return volatility\n",
    "\n",
    "def gen_features_and_targets(df):\n",
    "    grouped_by_date = df.groupby(df['Date'])\n",
    "    features = []\n",
    "    targets = []\n",
    "    for date in grouped_by_date.groups.keys():\n",
    "        cur_df = grouped_by_date.get_group(date)\n",
    "        cur_grouped = cur_df.groupby(cur_df[\"Minute\"])\n",
    "        cur_features = []\n",
    "        for minute in range(30, 60):\n",
    "            try:\n",
    "                cur_minute = cur_grouped.get_group(minute)\n",
    "            except:\n",
    "                if minute == 59:\n",
    "                    targets.append(0)\n",
    "                else:\n",
    "                    cur_features.append(0)\n",
    "                continue\n",
    "            volatility = calculate_volatility(cur_minute)\n",
    "            if minute == 59:\n",
    "                targets.append(volatility)\n",
    "            else:\n",
    "                cur_features.append(volatility)\n",
    "        features.append(cur_features)\n",
    "    return np.array(features), np.array(targets)\n",
    "\n",
    "def main_load_data(path):\n",
    "    df = pd.read_csv(path)\n",
    "    df['Time'] = df['Time'].apply(lambda x: convert_time(x))\n",
    "    df = df.loc[(df['Time'] >= datetime.time(14, 30, 0)) & (df[\"Time\"] < datetime.time(15, 0, 0))]\n",
    "    df['Date'] = df['Date'].apply(lambda x: convert_date(x))\n",
    "    df['Minute'] = df['Time'].apply(lambda x: x.minute)\n",
    "    features, targets = gen_features_and_targets(df)\n",
    "    return features, targets"
   ]
  },
  {
   "cell_type": "code",
   "execution_count": 247,
   "metadata": {},
   "outputs": [],
   "source": [
    "features, targets = main_load_data(\"2019.txt\")"
   ]
  },
  {
   "cell_type": "code",
   "execution_count": 248,
   "metadata": {},
   "outputs": [],
   "source": [
    "# definitions for the base model\n",
    "import torch\n",
    "import torch.optim as optim\n",
    "from torch.utils.data import TensorDataset, DataLoader\n",
    "from tqdm import tqdm\n",
    "\n",
    "activation_relu = torch.nn.ReLU()\n",
    "Loss_Function = torch.nn.MSELoss()\n",
    "Learning_Rate = 0.00001\n",
    "\n",
    "\n",
    "class BaseModule(torch.nn.Module):\n",
    "    def __init__(self):\n",
    "        super(BaseModule, self).__init__()\n",
    "        self.layer_1 = torch.nn.Linear(29, 10)\n",
    "        self.layer_2 = torch.nn.Linear(10, 1)\n",
    "    \n",
    "    def forward(self, x):\n",
    "        x = self.layer_1(x)\n",
    "        x = activation_relu(x)\n",
    "        x = self.layer_2(x)\n",
    "        return x\n",
    "    \n",
    "    \n",
    "def train_model(dataset, model, epochs):\n",
    "    #for epoch in tqdm(range(epochs)):\n",
    "    for epoch in range(epochs):\n",
    "        for data in dataset:\n",
    "            x, y = data\n",
    "            optimizer.zero_grad()\n",
    "            output = model(x)\n",
    "            loss = Loss_Function(output, y)\n",
    "            loss.backward()\n",
    "            optimizer.step()\n",
    "            \n",
    "def test_model(dataset, model):\n",
    "    loss_list = []\n",
    "    for data in dataset:\n",
    "        x, y = data\n",
    "        output = model(x)\n",
    "        loss = Loss_Function(output, y)\n",
    "        loss_list.append(loss)\n",
    "    return loss_list\n",
    "\n",
    "def step_train_model(train_dataset, test_dataset, model):\n",
    "    train_model(train_dataset, model, 1)\n",
    "    loss = test_model(test_dataset, model)\n",
    "    return loss[0]"
   ]
  },
  {
   "cell_type": "code",
   "execution_count": 249,
   "metadata": {},
   "outputs": [],
   "source": [
    "net = BaseModule()\n",
    "optimizer = optim.SGD(net.parameters(), lr=Learning_Rate)"
   ]
  },
  {
   "cell_type": "code",
   "execution_count": 250,
   "metadata": {},
   "outputs": [],
   "source": [
    "tensor_features = torch.Tensor(features)\n",
    "tensor_targets = torch.Tensor(targets)\n",
    "my_dataset = TensorDataset(tensor_features, tensor_targets)\n",
    "train_dataset, test_dataset = torch.utils.data.random_split(my_dataset, [200, 49])"
   ]
  },
  {
   "cell_type": "code",
   "execution_count": 251,
   "metadata": {},
   "outputs": [
    {
     "name": "stderr",
     "output_type": "stream",
     "text": [
      "C:\\Users\\micha\\anaconda3\\envs\\deep_learning_496\\lib\\site-packages\\torch\\nn\\modules\\loss.py:445: UserWarning: Using a target size (torch.Size([])) that is different to the input size (torch.Size([1])). This will likely lead to incorrect results due to broadcasting. Please ensure they have the same size.\n",
      "  return F.mse_loss(input, target, reduction=self.reduction)\n"
     ]
    },
    {
     "data": {
      "image/png": "[encoded data removed]",
      "text/plain": [
       "<Figure size 432x288 with 1 Axes>"
      ]
     },
     "metadata": {
      "needs_background": "light"
     },
     "output_type": "display_data"
    }
   ],
   "source": [
    "import matplotlib\n",
    "import matplotlib.pyplot as plt\n",
    "%matplotlib inline\n",
    "\n",
    "epoch = 100\n",
    "\n",
    "fix, ax = plt.subplots()\n",
    "x = []\n",
    "y = []\n",
    "current = 0\n",
    "for i in range(epoch):\n",
    "    current += 1\n",
    "    x.append(current)\n",
    "    y.append(step_train_model(train_dataset, test_dataset, net))\n",
    "x = np.array(x)\n",
    "y= np.array(y)\n",
    "\n",
    "\n",
    "line_1 = ax.plot(x, y, label=\"loss\")\n",
    "ax.set(xlabel=\"number of training epochs\", ylabel=\"test loss\")\n",
    "ax.legend()\n",
    "plt.show()"
   ]
  },
  {
   "cell_type": "code",
   "execution_count": null,
   "metadata": {
    "scrolled": true
   },
   "outputs": [],
   "source": [
    "train_model(train_dataset, net, 100)"
   ]
  },
  {
   "cell_type": "code",
   "execution_count": null,
   "metadata": {
    "scrolled": true
   },
   "outputs": [],
   "source": [
    "loss_list = test_model(test_dataset, net)"
   ]
  }
 ],
 "metadata": {
  "kernelspec": {
   "display_name": "Python 3",
   "language": "python",
   "name": "python3"
  },
  "language_info": {
   "codemirror_mode": {
    "name": "ipython",
    "version": 3
   },
   "file_extension": ".py",
   "mimetype": "text/x-python",
   "name": "python",
   "nbconvert_exporter": "python",
   "pygments_lexer": "ipython3",
   "version": "3.8.5"
  }
 },
 "nbformat": 4,
 "nbformat_minor": 4
}
