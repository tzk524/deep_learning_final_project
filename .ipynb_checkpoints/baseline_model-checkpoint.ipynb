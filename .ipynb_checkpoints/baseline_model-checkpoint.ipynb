{
 "cells": [
  {
   "cell_type": "code",
   "execution_count": 188,
   "metadata": {},
   "outputs": [],
   "source": [
    "# definitions for pre-processing data\n",
    "import pandas as pd\n",
    "import datetime \n",
    "import numpy as np\n",
    "import math\n",
    "\n",
    "def convert_time(string_time):\n",
    "    # given a time in string format, output a time in datetime.time format\n",
    "    format = \"%H:%M:%S\"\n",
    "    output = datetime.datetime.strptime(string_time, format)\n",
    "    return output.time()\n",
    "\n",
    "def convert_date(string_date):\n",
    "    # given a date in string format, output a time in datetime.date format\n",
    "    format = \"%m/%d/%Y\"\n",
    "    output = datetime.datetime.strptime(string_date, format)\n",
    "    return output.date()\n",
    "\n",
    "def calculate_volatility(df):\n",
    "    # given a df for a time period, calculate the VWAP for this time period\n",
    "    volume_total = df[\"Volume\"].sum()\n",
    "    if volume_total == 0:\n",
    "        return 0\n",
    "    volume_times_price_total = (df[\"Volume\"] * df[\"Price\"]).sum()\n",
    "    vwap = volume_times_price_total / volume_total\n",
    "    last_valid_index = df[\"Price\"].last_valid_index()\n",
    "    final_price = df[\"Price\"][last_valid_index]\n",
    "    volatility = abs(final_price - vwap)\n",
    "    volatility = volatility / final_price * 100\n",
    "    return volatility\n",
    "\n",
    "def gen_features_and_targets_GRU(df):\n",
    "    grouped_by_date = df.groupby(df['Date'])\n",
    "    features = np.zeros((len(grouped_by_date), 1, 29))\n",
    "    targets = np.zeros((len(grouped_by_date), 1))\n",
    "    date_counter = 0\n",
    "    for date in grouped_by_date.groups.keys():\n",
    "        cur_df = grouped_by_date.get_group(date)\n",
    "        cur_grouped = cur_df.groupby(cur_df[\"Minute\"])\n",
    "        for minute in range(30, 60):\n",
    "            try:\n",
    "                cur_minute = cur_grouped.get_group(minute)\n",
    "            except:\n",
    "                if minute == 59:\n",
    "                    targets[date_counter][0] = 0\n",
    "                else:\n",
    "                    features[date_counter][0][minute-30] = 0\n",
    "                continue\n",
    "            volatility = calculate_volatility(cur_minute)\n",
    "            if minute == 59:\n",
    "                targets[date_counter][0] = volatility\n",
    "            else:\n",
    "                features[date_counter][0][minute-30] = volatility\n",
    "        date_counter += 1\n",
    "    return np.array(features), np.array(targets)\n",
    "\n",
    "def gen_features_and_targets_base(df):\n",
    "    grouped_by_date = df.groupby(df['Date'])\n",
    "    features = []\n",
    "    targets = []\n",
    "    for date in grouped_by_date.groups.keys():\n",
    "        cur_df = grouped_by_date.get_group(date)\n",
    "        cur_grouped = cur_df.groupby(cur_df[\"Minute\"])\n",
    "        cur_features = []\n",
    "        for minute in range(30, 60):\n",
    "            try:\n",
    "                cur_minute = cur_grouped.get_group(minute)\n",
    "            except:\n",
    "                if minute == 59:\n",
    "                    targets.append(0)\n",
    "                else:\n",
    "                    cur_features.append(0)\n",
    "                continue\n",
    "            volatility = calculate_volatility(cur_minute)\n",
    "            if minute == 59:\n",
    "                targets.append(volatility)\n",
    "            else:\n",
    "                cur_features.append(volatility)\n",
    "        features.append(cur_features)\n",
    "    return np.array(features), np.array(targets)\n",
    "\n",
    "def load_data(path, type=\"base\"):\n",
    "    df = pd.read_csv(path)\n",
    "    df['Time'] = df['Time'].apply(lambda x: convert_time(x))\n",
    "    df = df.loc[(df['Time'] >= datetime.time(15, 30, 0)) & (df[\"Time\"] < datetime.time(16, 0, 0))]\n",
    "    df['Date'] = df['Date'].apply(lambda x: convert_date(x))\n",
    "    df['Minute'] = df['Time'].apply(lambda x: x.minute)\n",
    "    if type == \"GRU\":\n",
    "        features, targets = gen_features_and_targets_GRU(df)\n",
    "    else:\n",
    "        features, targets = gen_features_and_targets_base(df)\n",
    "    return features, targets\n",
    "\n"
   ]
  },
  {
   "cell_type": "code",
   "execution_count": 190,
   "metadata": {},
   "outputs": [],
   "source": [
    "# features, targets = load_data(\"IVE_tickbidask.txt\")\n",
    "features, targets = load_data(\"2019.txt\")"
   ]
  },
  {
   "cell_type": "code",
   "execution_count": 204,
   "metadata": {},
   "outputs": [],
   "source": [
    "# definitions for the base model\n",
    "import torch\n",
    "import torch.optim as optim\n",
    "from torch.utils.data import TensorDataset, DataLoader\n",
    "from tqdm import tqdm\n",
    "import matplotlib\n",
    "import matplotlib.pyplot as plt\n",
    "import math\n",
    "from tqdm import tqdm\n",
    "%matplotlib inline\n",
    "\n",
    "activation_relu = torch.nn.ReLU()\n",
    "Loss_Function = torch.nn.MSELoss()\n",
    "Learning_Rate = 0.001\n",
    "epochs = 1000\n",
    "\n",
    "\n",
    "class BaseModule(torch.nn.Module):\n",
    "    def __init__(self):\n",
    "        super(BaseModule, self).__init__()\n",
    "        self.layer_1 = torch.nn.Linear(29, 10)\n",
    "        self.layer_2 = torch.nn.Linear(10, 1)\n",
    "    \n",
    "    def forward(self, x):\n",
    "        x = self.layer_1(x)\n",
    "        x = activation_relu(x)\n",
    "        x = self.layer_2(x)\n",
    "        return x\n",
    "    \n",
    "    \n",
    "def train_model(dataset, model, epochs):\n",
    "    optimizer = optim.SGD(model.parameters(), lr=Learning_Rate)\n",
    "    epoch_list = []\n",
    "    loss_list = []\n",
    "    for epoch in tqdm(range(epochs)):\n",
    "        avg_loss = 0\n",
    "        for data in dataset:\n",
    "            x, y = data\n",
    "            optimizer.zero_grad()\n",
    "            output = model(x.float())\n",
    "            y = torch.Tensor([y])\n",
    "            #print(\"Output = {}\".format(output))\n",
    "            #print(\"y = {}\".format(y))\n",
    "            loss = Loss_Function(output, y)\n",
    "            avg_loss += loss\n",
    "            loss.backward()\n",
    "            optimizer.step()\n",
    "        epoch_list.append(epoch+1)\n",
    "        loss_list.append(avg_loss/len(dataset))\n",
    "    return epoch_list, loss_list\n",
    "            \n",
    "def test_model(dataset, model):\n",
    "    estimation = []\n",
    "    ground_truth = []\n",
    "    for x, label in dataset:\n",
    "        out = model(x.float())\n",
    "        estimation.append(out.item())\n",
    "        ground_truth.append(label.item())\n",
    "    sMAPE = 0\n",
    "    for i in range(len(estimation)):\n",
    "        sMAPE += np.mean(abs(estimation[i]-ground_truth[i])/(ground_truth[i]+estimation[i])/2)/len(estimation)\n",
    "    return sMAPE\n",
    "\n",
    "def draw_result(epoch_list, loss_list):\n",
    "    fix, ax = plt.subplots()\n",
    "    line_1 = ax.plot(epoch_list, loss_list, label=\"training_loss\")\n",
    "    ax.set(xlabel=\"epoch\", ylabel=\"loss\")\n",
    "    ax.legend()\n",
    "    plt.show()"
   ]
  },
  {
   "cell_type": "code",
   "execution_count": 205,
   "metadata": {},
   "outputs": [],
   "source": [
    "base_model = BaseModule()\n",
    "\n",
    "numOfTest = int(features.shape[0]/10)\n",
    "numOfTrain = features.shape[0] - numOfTest\n",
    "tensor_features = torch.from_numpy(features)\n",
    "tensor_targets = torch.from_numpy(targets)\n",
    "my_dataset = TensorDataset(tensor_features, tensor_targets)\n",
    "train_dataset, test_dataset = torch.utils.data.random_split(my_dataset, [numOfTrain, numOfTest])\n",
    "\n"
   ]
  },
  {
   "cell_type": "code",
   "execution_count": 206,
   "metadata": {},
   "outputs": [
    {
     "name": "stderr",
     "output_type": "stream",
     "text": [
      "100%|██████████| 1000/1000 [00:49<00:00, 20.07it/s]\n"
     ]
    },
    {
     "data": {
      "image/png": "[encoded data removed]",
      "text/plain": [
       "<Figure size 432x288 with 1 Axes>"
      ]
     },
     "metadata": {
      "needs_background": "light"
     },
     "output_type": "display_data"
    },
    {
     "name": "stdout",
     "output_type": "stream",
     "text": [
      "0.17988006967537087\n"
     ]
    }
   ],
   "source": [
    "training_epoch_list, training_loss_list = train_model(train_dataset, base_model, epochs)\n",
    "draw_result(training_epoch_list, training_loss_list)\n",
    "print(test_model(test_dataset, base_model))"
   ]
  },
  {
   "cell_type": "code",
   "execution_count": null,
   "metadata": {},
   "outputs": [],
   "source": [
    "features, targets = load_data(\"2019.txt\")"
   ]
  },
  {
   "cell_type": "code",
   "execution_count": 44,
   "metadata": {},
   "outputs": [],
   "source": [
    "net = BaseModule()\n",
    "optimizer = optim.SGD(net.parameters(), lr=Learning_Rate)"
   ]
  },
  {
   "cell_type": "code",
   "execution_count": 45,
   "metadata": {},
   "outputs": [],
   "source": [
    "tensor_features = torch.Tensor(features)\n",
    "tensor_targets = torch.Tensor(targets)\n",
    "my_dataset = TensorDataset(tensor_features, tensor_targets)\n",
    "train_dataset, test_dataset = torch.utils.data.random_split(my_dataset, [200, 49])"
   ]
  },
  {
   "cell_type": "code",
   "execution_count": 46,
   "metadata": {},
   "outputs": [
    {
     "name": "stderr",
     "output_type": "stream",
     "text": [
      "100%|██████████| 1000/1000 [01:00<00:00, 16.50it/s]\n"
     ]
    },
    {
     "data": {
      "image/png": "[encoded data removed]",
      "text/plain": [
       "<Figure size 432x288 with 1 Axes>"
      ]
     },
     "metadata": {
      "needs_background": "light"
     },
     "output_type": "display_data"
    }
   ],
   "source": [
    "import matplotlib\n",
    "import matplotlib.pyplot as plt\n",
    "import math\n",
    "from tqdm import tqdm\n",
    "%matplotlib inline\n",
    "\n",
    "epoch = 1000\n",
    "\n",
    "fix, ax = plt.subplots()\n",
    "x = []\n",
    "y = []\n",
    "current = 0\n",
    "for i in tqdm(range(epoch)):\n",
    "    current += 1\n",
    "    x.append(current)\n",
    "    y.append(math.sqrt(step_train_model(train_dataset, test_dataset, net)))\n",
    "x = np.array(x)\n",
    "y= np.array(y)\n",
    "\n",
    "\n",
    "line_1 = ax.plot(x, y, label=\"loss\")\n",
    "ax.set(xlabel=\"number of training epochs\", ylabel=\"test loss\")\n",
    "ax.legend()\n",
    "plt.show()"
   ]
  },
  {
   "cell_type": "code",
   "execution_count": 133,
   "metadata": {},
   "outputs": [],
   "source": [
    "# definitions for the GNU model\n",
    "import torch\n",
    "import torch.optim as optim\n",
    "from torch.utils.data import TensorDataset, DataLoader\n",
    "from tqdm import tqdm\n",
    "\n",
    "torch.set_printoptions(precision=10)\n",
    "activation_relu = torch.nn.ReLU()\n",
    "\n",
    "\n",
    "class GRUNet(torch.nn.Module):\n",
    "    def __init__(self, input_dim, hidden_dim, output_dim, numOfLayers, dropout_threshold=0.2):\n",
    "        super(GRUNet, self).__init__()\n",
    "        self.hidden_dim = hidden_dim\n",
    "        self.numOfLayers = numOfLayers\n",
    "        self.gru_layer = torch.nn.GRU(input_dim, hidden_dim, numOfLayers, batch_first=True, dropout=dropout_threshold)\n",
    "        self.fc = torch.nn.Linear(hidden_dim, output_dim)\n",
    "    \n",
    "    def forward(self, x, h):\n",
    "        out, hn = self.gru_layer(x, h)\n",
    "        out = self.fc(activation_relu(out[:, -1]))\n",
    "        return out, hn\n",
    "    def init_hidden(self, batch_size):\n",
    "        weight = next(self.parameters()).data\n",
    "        hidden = weight.new(self.numOfLayers, batch_size, self.hidden_dim).zero_()\n",
    "        return hidden\n",
    "    "
   ]
  },
  {
   "cell_type": "code",
   "execution_count": 157,
   "metadata": {},
   "outputs": [],
   "source": [
    "features, targets = load_data(\"2019.txt\", type=\"GRU\")\n",
    "# features, targets = main_load_data(\"IVE_tickbidask.txt\")"
   ]
  },
  {
   "cell_type": "code",
   "execution_count": 179,
   "metadata": {},
   "outputs": [],
   "source": [
    "import matplotlib\n",
    "import matplotlib.pyplot as plt\n",
    "import math\n",
    "from tqdm import tqdm\n",
    "\n",
    "input_dim = 29\n",
    "output_dim = 1\n",
    "hidden_dim = 128\n",
    "numOfLayers = 2\n",
    "Loss_Function = torch.nn.MSELoss()\n",
    "learning_rate = 0.001\n",
    "numOfEpoch = 1000\n",
    "batch_size = 10\n",
    "\n",
    "model = GRUNet(input_dim, hidden_dim, output_dim, numOfLayers)\n",
    "numOfTest = int(features.shape[0]/10)\n",
    "numOfTrain = features.shape[0] - numOfTest\n",
    "tensor_features = torch.from_numpy(features)\n",
    "tensor_targets = torch.from_numpy(targets)\n",
    "my_dataset = TensorDataset(tensor_features, tensor_targets)\n",
    "train_dataset, test_dataset = torch.utils.data.random_split(my_dataset, [numOfTrain, numOfTest])\n",
    "\n",
    "train_loader = DataLoader(train_dataset, shuffle=True, batch_size = batch_size, drop_last=True)\n",
    "test_loader = DataLoader(test_dataset)\n",
    "\n",
    "def train_model():\n",
    "    optimizer = torch.optim.Adam(model.parameters(), lr=learning_rate)\n",
    "    model.train()\n",
    "    epoch_list = []\n",
    "    loss_list = []\n",
    "    counter = 1\n",
    "    for epoch in tqdm(range(1, numOfEpoch+1)):\n",
    "        h = model.init_hidden(batch_size)\n",
    "        for x, label in train_loader:\n",
    "            avg_loss = 0\n",
    "            h = h.data\n",
    "            model.zero_grad()\n",
    "#             print(x.float())\n",
    "            out, h = model(x.float(), h)\n",
    "#             print(out)\n",
    "#             print(h)\n",
    "            loss = Loss_Function(out, label.float())\n",
    "            loss.backward()\n",
    "            torch.nn.utils.clip_grad_norm_(model.parameters(), 1)\n",
    "            optimizer.step()\n",
    "#             print(loss)\n",
    "            avg_loss += loss.item()\n",
    "        epoch_list.append(counter)\n",
    "#         print(avg_loss)\n",
    "        loss_list.append(avg_loss/len(train_loader))\n",
    "        counter += 1\n",
    "    return epoch_list, loss_list\n",
    "\n",
    "def evaluate_model():\n",
    "    estimation = []\n",
    "    ground_truth = []\n",
    "    for x, label in test_loader:\n",
    "        w = next(model.parameters()).data\n",
    "        h = w.new(numOfLayers, x.shape[0], hidden_dim).zero_()\n",
    "        h = h.data\n",
    "        out, h = model(x.float(), h)\n",
    "        estimation.append(out.item())\n",
    "        ground_truth.append(label.item())\n",
    "#     print(estimation)\n",
    "#     print(ground_truth)\n",
    "    sMAPE = 0\n",
    "    for i in range(len(estimation)):\n",
    "        sMAPE += np.mean(abs(estimation[i]-ground_truth[i])/(ground_truth[i]+estimation[i])/2)/len(estimation)\n",
    "    return sMAPE\n",
    "           \n",
    "        \n",
    "def draw_result(epoch_list, loss_list):\n",
    "    fix, ax = plt.subplots()\n",
    "    line_1 = ax.plot(epoch_list, loss_list, label=\"training_loss\")\n",
    "    ax.set(xlabel=\"epoch\", ylabel=\"loss\")\n",
    "    ax.legend()\n",
    "    plt.show()"
   ]
  },
  {
   "cell_type": "code",
   "execution_count": 186,
   "metadata": {},
   "outputs": [
    {
     "data": {
      "text/plain": [
       "25"
      ]
     },
     "execution_count": 186,
     "metadata": {},
     "output_type": "execute_result"
    }
   ],
   "source": [
    "int(features.shape[0]/10)"
   ]
  },
  {
   "cell_type": "code",
   "execution_count": 180,
   "metadata": {},
   "outputs": [
    {
     "name": "stderr",
     "output_type": "stream",
     "text": [
      "100%|██████████| 1000/1000 [01:15<00:00, 13.27it/s]\n"
     ]
    }
   ],
   "source": [
    "training_epoch_list, training_loss_list = train_model()\n"
   ]
  },
  {
   "cell_type": "code",
   "execution_count": 182,
   "metadata": {},
   "outputs": [
    {
     "data": {
      "image/png": "[encoded data removed]",
      "text/plain": [
       "<Figure size 432x288 with 1 Axes>"
      ]
     },
     "metadata": {
      "needs_background": "light"
     },
     "output_type": "display_data"
    }
   ],
   "source": [
    "draw_result(training_epoch_list, training_loss_list)"
   ]
  },
  {
   "cell_type": "code",
   "execution_count": 181,
   "metadata": {},
   "outputs": [
    {
     "data": {
      "text/plain": [
       "0.20271258840352588"
      ]
     },
     "execution_count": 181,
     "metadata": {},
     "output_type": "execute_result"
    }
   ],
   "source": [
    "evaluate_model()"
   ]
  },
  {
   "cell_type": "code",
   "execution_count": 183,
   "metadata": {},
   "outputs": [
    {
     "data": {
      "text/plain": [
       "GRUNet(\n",
       "  (gru_layer): GRU(29, 128, num_layers=2, batch_first=True, dropout=0.2)\n",
       "  (fc): Linear(in_features=128, out_features=1, bias=True)\n",
       ")"
      ]
     },
     "execution_count": 183,
     "metadata": {},
     "output_type": "execute_result"
    }
   ],
   "source": [
    "model.eval()"
   ]
  },
  {
   "cell_type": "code",
   "execution_count": null,
   "metadata": {},
   "outputs": [],
   "source": []
  }
 ],
 "metadata": {
  "kernelspec": {
   "display_name": "Python 3",
   "language": "python",
   "name": "python3"
  },
  "language_info": {
   "codemirror_mode": {
    "name": "ipython",
    "version": 3
   },
   "file_extension": ".py",
   "mimetype": "text/x-python",
   "name": "python",
   "nbconvert_exporter": "python",
   "pygments_lexer": "ipython3",
   "version": "3.7.9"
  }
 },
 "nbformat": 4,
 "nbformat_minor": 4
}
